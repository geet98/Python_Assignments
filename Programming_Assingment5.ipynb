{
 "cells": [
  {
   "cell_type": "code",
   "execution_count": 3,
   "metadata": {},
   "outputs": [
    {
     "name": "stdout",
     "output_type": "stream",
     "text": [
      "Enter first number:12\n",
      "Enter second number:30\n",
      "HCF for a and b is 6\n"
     ]
    }
   ],
   "source": [
    "#HCF\n",
    "a=int(input(\"Enter first number:\"))\n",
    "b=int(input(\"Enter second number:\"))\n",
    "if(a<b):\n",
    "    smallest=a\n",
    "hcf=1\n",
    "for i in range(1,smallest):\n",
    "    if(a%i==0 and b%i==0):\n",
    "        hcf=i\n",
    "print(\"HCF for a and b is {}\".format(hcf))     "
   ]
  },
  {
   "cell_type": "code",
   "execution_count": 10,
   "metadata": {},
   "outputs": [
    {
     "name": "stdout",
     "output_type": "stream",
     "text": [
      "Enter first number:12\n",
      "Enter second number:30\n",
      "LCM for a and b is 60\n"
     ]
    }
   ],
   "source": [
    "#LCM\n",
    "a=int(input(\"Enter first number:\"))\n",
    "b=int(input(\"Enter second number:\"))\n",
    "if(a<b):\n",
    "    largest=b\n",
    "i=largest\n",
    "lcm=1\n",
    "while(1):\n",
    "    if(i%a==0 and i%b==0):\n",
    "        lcm=i\n",
    "        break\n",
    "    i+=largest\n",
    "print(\"LCM for a and b is {}\".format(lcm))"
   ]
  },
  {
   "cell_type": "code",
   "execution_count": 13,
   "metadata": {},
   "outputs": [
    {
     "name": "stdout",
     "output_type": "stream",
     "text": [
      "Enter any decimal number6\n",
      "Binary value of 6 is 0b110\n",
      "Octal value of 6 is 0o6\n",
      "Hexadecimal value of 6 is 0x6\n"
     ]
    }
   ],
   "source": [
    "#convert decimal to binary,octal and hexadecimal\n",
    "a=int(input(\"Enter any decimal number\"))\n",
    "print(\"Binary value of {} is {}\".format(a,bin(a)))\n",
    "print(\"Octal value of {} is {}\".format(a,oct(a)))\n",
    "print(\"Hexadecimal value of {} is {}\".format(a,hex(a)))      "
   ]
  },
  {
   "cell_type": "code",
   "execution_count": 21,
   "metadata": {},
   "outputs": [
    {
     "name": "stdout",
     "output_type": "stream",
     "text": [
      "Enter any character:i\n",
      "ASCII value of i is 105\n"
     ]
    }
   ],
   "source": [
    "#Find ASCII value of charater\n",
    "a=input(\"Enter any character:\")\n",
    "print(\"ASCII value of {} is {}\".format(a,ord(a)))"
   ]
  },
  {
   "cell_type": "code",
   "execution_count": null,
   "metadata": {},
   "outputs": [
    {
     "name": "stdout",
     "output_type": "stream",
     "text": [
      "Enter first number:5\n",
      "Enter second number:5\n"
     ]
    }
   ],
   "source": [
    "#calculator\n",
    "def add(a,b):\n",
    "    return a+b\n",
    "def sub(a,b):\n",
    "    return a-b\n",
    "def mul(a,b):\n",
    "    return a*b\n",
    "def div(a,b):\n",
    "    return a/b\n",
    "x=int(input(\"Enter first number:\"))\n",
    "y=int(input(\"Enter second number:\"))\n",
    "choice=(int(input(\"Enter choice 1:addition 2:Subtraction 3:Multiplication 4:Division\")))\n",
    "\n",
    "if(choice==1):\n",
    "    print(\"Addition:\",add(x,y))\n",
    "\n",
    "elif(choice==2):\n",
    "    print(\"Subtraction:\",sub(x,y))\n",
    "\n",
    "elif(choice==3):\n",
    "    print(\"Multiplication:\",mul(x,y))\n",
    "    \n",
    "elif(choice==4):\n",
    "    print(\"Division:\",div(x,y))\n",
    "\n",
    "else:\n",
    "    print(\"Invalid choice\")"
   ]
  },
  {
   "cell_type": "code",
   "execution_count": null,
   "metadata": {},
   "outputs": [],
   "source": []
  }
 ],
 "metadata": {
  "kernelspec": {
   "display_name": "Python 3",
   "language": "python",
   "name": "python3"
  },
  "language_info": {
   "codemirror_mode": {
    "name": "ipython",
    "version": 3
   },
   "file_extension": ".py",
   "mimetype": "text/x-python",
   "name": "python",
   "nbconvert_exporter": "python",
   "pygments_lexer": "ipython3",
   "version": "3.7.6"
  }
 },
 "nbformat": 4,
 "nbformat_minor": 4
}
