{
 "cells": [
  {
   "cell_type": "code",
   "execution_count": 6,
   "metadata": {},
   "outputs": [
    {
     "name": "stdout",
     "output_type": "stream",
     "text": [
      "Enter value of kilometer:3.5\n",
      "3.5 kms is equal to 2.1747985 miles:\n"
     ]
    }
   ],
   "source": [
    "#Convert kilometers to miles\n",
    "km=float(input(\"Enter value of kilometer:\"))\n",
    "conv_fac=0.621371\n",
    "miles=km*conv_fac\n",
    "print(\"{} kms is equal to {} miles:\".format(km,miles))"
   ]
  },
  {
   "cell_type": "code",
   "execution_count": 7,
   "metadata": {},
   "outputs": [
    {
     "name": "stdout",
     "output_type": "stream",
     "text": [
      "Enter temp in celsius:23\n",
      "23.0 degree celsius is equal to 73.4 degree fahrenheit\n"
     ]
    }
   ],
   "source": [
    "#Convert Celsius to Fahrenheit\n",
    "celsius=float(input(\"Enter temp in celsius:\"))\n",
    "fahrenheit=(celsius*1.8)+32\n",
    "print(\"{} degree celsius is equal to {} degree fahrenheit\".format(celsius,fahrenheit))"
   ]
  },
  {
   "cell_type": "code",
   "execution_count": 10,
   "metadata": {},
   "outputs": [
    {
     "name": "stdout",
     "output_type": "stream",
     "text": [
      "Enter year:2018\n",
      "Enter month:2\n",
      "   February 2018\n",
      "Mo Tu We Th Fr Sa Su\n",
      "          1  2  3  4\n",
      " 5  6  7  8  9 10 11\n",
      "12 13 14 15 16 17 18\n",
      "19 20 21 22 23 24 25\n",
      "26 27 28\n",
      "\n"
     ]
    }
   ],
   "source": [
    "#display calendar\n",
    "import calendar\n",
    "yy=int(input(\"Enter year:\"))\n",
    "mm=int(input(\"Enter month:\"))\n",
    "print(calendar.month(yy,mm))"
   ]
  },
  {
   "cell_type": "code",
   "execution_count": 21,
   "metadata": {},
   "outputs": [
    {
     "name": "stdout",
     "output_type": "stream",
     "text": [
      "The solution are (-3+0j) and (-2+0j)\n"
     ]
    }
   ],
   "source": [
    "#quadratic equation\n",
    "import cmath\n",
    "a=1\n",
    "b=5\n",
    "c=6\n",
    "desc=(b**2)-(4*a*c)\n",
    "sol1 = (-b-cmath.sqrt(desc))/(2*a)\n",
    "sol2 = (-b+cmath.sqrt(desc))/(2*a)\n",
    "print('The solution are {0} and {1}'.format(sol1,sol2))"
   ]
  },
  {
   "cell_type": "code",
   "execution_count": 22,
   "metadata": {},
   "outputs": [
    {
     "name": "stdout",
     "output_type": "stream",
     "text": [
      "Values before swapping: 10 20\n",
      "Values after swapping: 20 10\n"
     ]
    }
   ],
   "source": [
    "#Swap without temp\n",
    "a=10\n",
    "b=20\n",
    "print(\"Values before swapping:\",a,b)\n",
    "a,b =b,a\n",
    "print(\"Values after swapping:\",a,b)"
   ]
  },
  {
   "cell_type": "code",
   "execution_count": null,
   "metadata": {},
   "outputs": [],
   "source": []
  }
 ],
 "metadata": {
  "kernelspec": {
   "display_name": "Python 3",
   "language": "python",
   "name": "python3"
  },
  "language_info": {
   "codemirror_mode": {
    "name": "ipython",
    "version": 3
   },
   "file_extension": ".py",
   "mimetype": "text/x-python",
   "name": "python",
   "nbconvert_exporter": "python",
   "pygments_lexer": "ipython3",
   "version": "3.7.6"
  }
 },
 "nbformat": 4,
 "nbformat_minor": 4
}
