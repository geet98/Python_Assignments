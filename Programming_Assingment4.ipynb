{
 "cells": [
  {
   "cell_type": "code",
   "execution_count": 53,
   "metadata": {},
   "outputs": [
    {
     "name": "stdout",
     "output_type": "stream",
     "text": [
      "Enter any number:3\n",
      "Factorial of 3 is 6\n"
     ]
    }
   ],
   "source": [
    "#Factorial of a Number\n",
    "num=int(input(\"Enter any number:\"))\n",
    "fact=1\n",
    "if(num < 0):\n",
    "    print(\"Factorial of negative number does not exist!\")\n",
    "elif(num==1):\n",
    "    print(\"Factorial of 0 is 1\")\n",
    "else:\n",
    "    for i in range(1,num+1):\n",
    "        fact=fact*i\n",
    "    print(\"Factorial of {} is {}\".format(num,fact))"
   ]
  },
  {
   "cell_type": "code",
   "execution_count": 54,
   "metadata": {},
   "outputs": [
    {
     "name": "stdout",
     "output_type": "stream",
     "text": [
      "Enter a number:6\n",
      "6\n",
      "12\n",
      "18\n",
      "24\n",
      "30\n",
      "36\n",
      "42\n",
      "48\n",
      "54\n",
      "60\n"
     ]
    }
   ],
   "source": [
    "#Display multiplication table\n",
    "num=int(input(\"Enter a number:\"))\n",
    "if(num>0):\n",
    "    for i in range(1,11):\n",
    "        print(num*i)    "
   ]
  },
  {
   "cell_type": "code",
   "execution_count": 15,
   "metadata": {},
   "outputs": [
    {
     "name": "stdout",
     "output_type": "stream",
     "text": [
      "Enter the number of terms:6\n",
      "0\n",
      "1\n",
      "1\n",
      "2\n",
      "3\n",
      "5\n"
     ]
    }
   ],
   "source": [
    "#Fibonacci sequence\n",
    "reps=int(input(\"Enter the number of terms:\"))\n",
    "n1,n2=0,1\n",
    "count=0\n",
    "if(reps<0):\n",
    "    print(\"Enter positive value\")\n",
    "elif(reps==1):\n",
    "    print(n1)\n",
    "else:\n",
    "    while count<reps:\n",
    "        print(n1)\n",
    "        sum=n1+n2\n",
    "        n1=n2\n",
    "        n2=sum\n",
    "        count+=1"
   ]
  },
  {
   "cell_type": "code",
   "execution_count": 55,
   "metadata": {},
   "outputs": [
    {
     "name": "stdout",
     "output_type": "stream",
     "text": [
      "Enter a number:4\n",
      "4 is not an armstrong number\n"
     ]
    }
   ],
   "source": [
    "#Armstrong number\n",
    "num=int(input(\"Enter a number:\"))\n",
    "sum=0\n",
    "temp=num\n",
    "while(temp>0):\n",
    "    digit=temp%10\n",
    "    sum+=digit**3\n",
    "    temp//=10\n",
    "\n",
    "if(num==sum):\n",
    "    print(\"{} is an armstrong number\".format(num))\n",
    "else:\n",
    "    print(\"{} is not an armstrong number\".format(num))    "
   ]
  },
  {
   "cell_type": "code",
   "execution_count": 43,
   "metadata": {},
   "outputs": [
    {
     "name": "stdout",
     "output_type": "stream",
     "text": [
      "Enter lower range:100\n",
      "Enter upper range:5000\n",
      "153\n",
      "370\n",
      "371\n",
      "407\n",
      "1634\n"
     ]
    }
   ],
   "source": [
    "#Armstrong number in an interval\n",
    "lower=int(input(\"Enter lower range:\"))\n",
    "upper=int(input(\"Enter upper range:\"))\n",
    "for num in range(lower,upper+1):\n",
    "    \n",
    "    order=len(str(num))\n",
    "    sum=0\n",
    "    temp=num\n",
    "    \n",
    "    while(temp>0):\n",
    "        digit=temp%10\n",
    "        sum+=digit**order\n",
    "        temp//=10\n",
    "        \n",
    "    if num==sum:\n",
    "        print(num)\n"
   ]
  },
  {
   "cell_type": "code",
   "execution_count": 56,
   "metadata": {},
   "outputs": [
    {
     "name": "stdout",
     "output_type": "stream",
     "text": [
      "Enter a number:58\n",
      "1711\n"
     ]
    }
   ],
   "source": [
    "#Find sum of the natural numbers\n",
    "num=int(input(\"Enter a number:\"))\n",
    "sum=0\n",
    "while num>0:\n",
    "    sum+=num\n",
    "    num-=1\n",
    "print(sum)"
   ]
  },
  {
   "cell_type": "code",
   "execution_count": null,
   "metadata": {},
   "outputs": [],
   "source": []
  }
 ],
 "metadata": {
  "kernelspec": {
   "display_name": "Python 3",
   "language": "python",
   "name": "python3"
  },
  "language_info": {
   "codemirror_mode": {
    "name": "ipython",
    "version": 3
   },
   "file_extension": ".py",
   "mimetype": "text/x-python",
   "name": "python",
   "nbconvert_exporter": "python",
   "pygments_lexer": "ipython3",
   "version": "3.7.6"
  }
 },
 "nbformat": 4,
 "nbformat_minor": 4
}
