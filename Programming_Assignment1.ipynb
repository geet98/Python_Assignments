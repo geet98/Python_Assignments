{
 "cells": [
  {
   "cell_type": "code",
   "execution_count": 1,
   "metadata": {},
   "outputs": [
    {
     "name": "stdout",
     "output_type": "stream",
     "text": [
      "Hello Python\n"
     ]
    }
   ],
   "source": [
    "#Print Hello Python\n",
    "print(\"Hello Python\")"
   ]
  },
  {
   "cell_type": "code",
   "execution_count": 3,
   "metadata": {},
   "outputs": [
    {
     "name": "stdout",
     "output_type": "stream",
     "text": [
      "Enter first number6\n",
      "Enter second number2\n",
      "Addition of two numbers is:  8\n",
      "Division of two numbers is:  3.0\n"
     ]
    }
   ],
   "source": [
    "#Arithmetic operations:addition and division\n",
    "a = int(input(\"Enter first number\"))\n",
    "b= int(input(\"Enter second number\"))\n",
    "c=a+b\n",
    "print(\"Addition of two numbers is: \",c)\n",
    "d=a/b\n",
    "print(\"Division of two numbers is: \",d)"
   ]
  },
  {
   "cell_type": "code",
   "execution_count": 6,
   "metadata": {},
   "outputs": [
    {
     "name": "stdout",
     "output_type": "stream",
     "text": [
      "Enter base:4.8\n",
      "Enter height:5.2\n",
      "Area of triangle is: 12.48\n"
     ]
    }
   ],
   "source": [
    "#Find area of triangle\n",
    "base = float(input(\"Enter base:\"))\n",
    "height = float(input(\"Enter height:\"))\n",
    "area= (base*height)/2\n",
    "print(\"Area of triangle is:\",area)"
   ]
  },
  {
   "cell_type": "code",
   "execution_count": 11,
   "metadata": {},
   "outputs": [
    {
     "name": "stdout",
     "output_type": "stream",
     "text": [
      "value of a and b before swapping: 10 20\n",
      "value of a and b after swapping: 20 10\n"
     ]
    }
   ],
   "source": [
    "#swap two variables\n",
    "a=10\n",
    "b=20\n",
    "print(\"value of a and b before swapping:\",a,b)\n",
    "temp=a\n",
    "a=b\n",
    "b=temp\n",
    "print(\"value of a and b after swapping:\",a,b)"
   ]
  },
  {
   "cell_type": "code",
   "execution_count": 14,
   "metadata": {},
   "outputs": [
    {
     "name": "stdout",
     "output_type": "stream",
     "text": [
      "3\n"
     ]
    }
   ],
   "source": [
    "#generate random number\n",
    "import random\n",
    "print(random.randint(0,13))"
   ]
  },
  {
   "cell_type": "code",
   "execution_count": null,
   "metadata": {},
   "outputs": [],
   "source": []
  }
 ],
 "metadata": {
  "kernelspec": {
   "display_name": "Python 3",
   "language": "python",
   "name": "python3"
  },
  "language_info": {
   "codemirror_mode": {
    "name": "ipython",
    "version": 3
   },
   "file_extension": ".py",
   "mimetype": "text/x-python",
   "name": "python",
   "nbconvert_exporter": "python",
   "pygments_lexer": "ipython3",
   "version": "3.7.6"
  }
 },
 "nbformat": 4,
 "nbformat_minor": 4
}
