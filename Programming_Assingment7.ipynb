{
 "cells": [
  {
   "cell_type": "code",
   "execution_count": 10,
   "metadata": {},
   "outputs": [
    {
     "name": "stdout",
     "output_type": "stream",
     "text": [
      "Sum of array is 20\n"
     ]
    }
   ],
   "source": [
    "#sum of array\n",
    "def sumofarr(arr):\n",
    "    sum=0\n",
    "    for i in arr:\n",
    "        sum+=i\n",
    "    return sum\n",
    "\n",
    "arr=[4,6,2,8]\n",
    "n=len(arr)\n",
    "output=sumofarr(arr)\n",
    "print(\"Sum of array is\",output)"
   ]
  },
  {
   "cell_type": "code",
   "execution_count": 16,
   "metadata": {},
   "outputs": [
    {
     "name": "stdout",
     "output_type": "stream",
     "text": [
      "Largest element in array is 10\n"
     ]
    }
   ],
   "source": [
    "#largest element\n",
    "def large(arr):\n",
    "    max=arr[0]\n",
    "    for i in range(0,len(arr)):\n",
    "        if arr[i] > max:\n",
    "            largest=arr[i]\n",
    "        else:\n",
    "            largest=max\n",
    "    return largest\n",
    "\n",
    "arr=[4,6,2,8,10]\n",
    "n=len(arr)\n",
    "output=large(arr)\n",
    "print(\"Largest element in array is\",output)"
   ]
  },
  {
   "cell_type": "code",
   "execution_count": 24,
   "metadata": {},
   "outputs": [
    {
     "name": "stdout",
     "output_type": "stream",
     "text": [
      "Array after left rotation is [3, 4, 5, 6, 7, 1, 2]\n"
     ]
    }
   ],
   "source": [
    "#array rotation\n",
    "def rotatearray(arr,n,d):\n",
    "    i=0\n",
    "    temp=[]\n",
    "    while(i<d):\n",
    "        temp.append(arr[i])\n",
    "        i=i+1\n",
    "    #print(temp)\n",
    "    i=0\n",
    "    while(d<n):\n",
    "        arr[i]=arr[d]\n",
    "        i=i+1\n",
    "        d=d+1\n",
    "    arr[:]=arr[: i]+temp\n",
    "    return arr\n",
    "\n",
    "arr=[1,2,3,4,5,6,7]\n",
    "print(\"Array after left rotation is\",rotatearray(arr,len(arr),2))"
   ]
  },
  {
   "cell_type": "code",
   "execution_count": 30,
   "metadata": {},
   "outputs": [
    {
     "name": "stdout",
     "output_type": "stream",
     "text": [
      "6\n",
      "8\n",
      "7\n",
      "12\n",
      "10\n",
      "5\n"
     ]
    }
   ],
   "source": [
    "#split array and add first part at the end\n",
    "def splitarray(a,n,d):\n",
    "    b=a[:d]\n",
    "    return (a[d::]+b[::])\n",
    "\n",
    "arr=[12,10,5,6,8,7]\n",
    "n=len(arr)\n",
    "pos=3\n",
    "arr=splitarray(arr,n,pos)\n",
    "for i in range(0,n):\n",
    "    print(arr[i])  "
   ]
  },
  {
   "cell_type": "code",
   "execution_count": 3,
   "metadata": {},
   "outputs": [
    {
     "ename": "SyntaxError",
     "evalue": "invalid syntax (<ipython-input-3-8526ba231d80>, line 3)",
     "output_type": "error",
     "traceback": [
      "\u001b[1;36m  File \u001b[1;32m\"<ipython-input-3-8526ba231d80>\"\u001b[1;36m, line \u001b[1;32m3\u001b[0m\n\u001b[1;33m    return (all (a[a]<=a[i+1] for i in range(len(a)-1)) or (all a[a]>=a[i+1] for i in range(len(a)-1)))\u001b[0m\n\u001b[1;37m                                                                ^\u001b[0m\n\u001b[1;31mSyntaxError\u001b[0m\u001b[1;31m:\u001b[0m invalid syntax\n"
     ]
    }
   ],
   "source": [
    "#Check if given array is monotonic\n",
    "def ismonotonic(a):\n",
    "    return (all (a[a]<=a[i+1] for i in range(len(a)-1)) or (all a[a]>=a[i+1] for i in range(len(a)-1)))\n",
    "\n",
    "a=[1,3,5,7]\n",
    "print(ismonotonic(a))"
   ]
  },
  {
   "cell_type": "code",
   "execution_count": null,
   "metadata": {},
   "outputs": [],
   "source": []
  }
 ],
 "metadata": {
  "kernelspec": {
   "display_name": "Python 3",
   "language": "python",
   "name": "python3"
  },
  "language_info": {
   "codemirror_mode": {
    "name": "ipython",
    "version": 3
   },
   "file_extension": ".py",
   "mimetype": "text/x-python",
   "name": "python",
   "nbconvert_exporter": "python",
   "pygments_lexer": "ipython3",
   "version": "3.7.6"
  }
 },
 "nbformat": 4,
 "nbformat_minor": 4
}
