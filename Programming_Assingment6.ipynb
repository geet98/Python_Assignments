{
 "cells": [
  {
   "cell_type": "code",
   "execution_count": 1,
   "metadata": {},
   "outputs": [
    {
     "name": "stdout",
     "output_type": "stream",
     "text": [
      "Enter no of terms:5\n",
      "Fibonacci sequence:\n",
      "0\n",
      "1\n",
      "1\n",
      "2\n",
      "3\n"
     ]
    }
   ],
   "source": [
    "#Fibonacci sequence using recursion\n",
    "def fib(n):\n",
    "    if(n<=1):\n",
    "        return n\n",
    "    else:\n",
    "        return (fib(n-1)+fib(n-2))\n",
    "\n",
    "nterms=int(input(\"Enter no of terms:\"))\n",
    "if(nterms<0):\n",
    "    print(\"Enter positive value\")\n",
    "else:\n",
    "    print(\"Fibonacci sequence:\")\n",
    "    for i in range(nterms):\n",
    "        print(fib(i))"
   ]
  },
  {
   "cell_type": "code",
   "execution_count": 10,
   "metadata": {},
   "outputs": [
    {
     "name": "stdout",
     "output_type": "stream",
     "text": [
      "Enter number:6\n",
      "Factorial:\n",
      "720\n"
     ]
    }
   ],
   "source": [
    "#Factorial using recursion\n",
    "def fact(n):\n",
    "    if n==1:\n",
    "        return 1\n",
    "    else:\n",
    "        return (n * fact(n-1))\n",
    "\n",
    "num=int(input(\"Enter number:\"))\n",
    "if num<0:\n",
    "    print(\"Enter positive value\")\n",
    "else:\n",
    "    print(\"Factorial:\")\n",
    "    print(fact(num))"
   ]
  },
  {
   "cell_type": "code",
   "execution_count": 3,
   "metadata": {},
   "outputs": [
    {
     "name": "stdout",
     "output_type": "stream",
     "text": [
      "Enter your weight in kgs:54\n",
      "Enter your height in cm:168\n",
      "BMI: 19.13265306122449\n"
     ]
    }
   ],
   "source": [
    "#Body mass index\n",
    "weight=float(input(\"Enter your weight in kgs:\"))\n",
    "height=float(input(\"Enter your height in cm:\"))\n",
    "height1=height/100\n",
    "BMI=(weight/(height1*height1))\n",
    "print(\"BMI:\",BMI)"
   ]
  },
  {
   "cell_type": "code",
   "execution_count": 9,
   "metadata": {},
   "outputs": [
    {
     "name": "stdout",
     "output_type": "stream",
     "text": [
      "Enter any number:14\n",
      "Natural logarithm of 14 is 2.6390573296152584:\n"
     ]
    }
   ],
   "source": [
    "#Natural logarithm of any number\n",
    "num=int(input(\"Enter any number:\"))\n",
    "if num > 0:\n",
    "    print(\"Natural logarithm of {} is {}:\".format(num,math.log(num)))"
   ]
  },
  {
   "cell_type": "code",
   "execution_count": 11,
   "metadata": {},
   "outputs": [
    {
     "name": "stdout",
     "output_type": "stream",
     "text": [
      "Enter number:4\n",
      "100\n"
     ]
    }
   ],
   "source": [
    "#CCube sum of first n natural numbers\n",
    "def sumofnums(n):\n",
    "    sum=0\n",
    "    for i in range(1,n+1):\n",
    "        sum+=i*i*i\n",
    "    return sum\n",
    "\n",
    "n=int(input(\"Enter number:\"))\n",
    "print(sumofnums(n))"
   ]
  },
  {
   "cell_type": "code",
   "execution_count": null,
   "metadata": {},
   "outputs": [],
   "source": []
  }
 ],
 "metadata": {
  "kernelspec": {
   "display_name": "Python 3",
   "language": "python",
   "name": "python3"
  },
  "language_info": {
   "codemirror_mode": {
    "name": "ipython",
    "version": 3
   },
   "file_extension": ".py",
   "mimetype": "text/x-python",
   "name": "python",
   "nbconvert_exporter": "python",
   "pygments_lexer": "ipython3",
   "version": "3.7.6"
  }
 },
 "nbformat": 4,
 "nbformat_minor": 4
}
